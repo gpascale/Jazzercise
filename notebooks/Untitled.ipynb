{
 "cells": [
  {
   "cell_type": "code",
   "execution_count": 3,
   "metadata": {
    "collapsed": false
   },
   "outputs": [
    {
     "name": "stdout",
     "output_type": "stream",
     "text": [
      "The music21.ipython21 extension is already loaded. To reload it, use:\n",
      "  %reload_ext music21.ipython21\n"
     ]
    }
   ],
   "source": [
    "import music21\n",
    "from music21 import *\n",
    "import os \n",
    "from IPython.display import display\n",
    "%load_ext music21.ipython21\n",
    "import sys\n",
    "sys.path.append('..')\n",
    "sys.path.append('../generation')"
   ]
  },
  {
   "cell_type": "code",
   "execution_count": 3,
   "metadata": {
    "collapsed": false
   },
   "outputs": [],
   "source": [
    "pitches = music21.harmony.ChordSymbol('C7').pitches"
   ]
  },
  {
   "cell_type": "code",
   "execution_count": 6,
   "metadata": {
    "collapsed": false
   },
   "outputs": [
    {
     "data": {
      "text/plain": [
       "<music21.pitch.Pitch C5>"
      ]
     },
     "execution_count": 6,
     "metadata": {},
     "output_type": "execute_result"
    }
   ],
   "source": [
    "p = pitches[0]\n",
    "p.octave = 5\n",
    "p"
   ]
  },
  {
   "cell_type": "code",
   "execution_count": 4,
   "metadata": {
    "collapsed": true
   },
   "outputs": [],
   "source": [
    "import music21_utils as m21u"
   ]
  },
  {
   "cell_type": "code",
   "execution_count": 23,
   "metadata": {
    "collapsed": false
   },
   "outputs": [],
   "source": [
    "score = m21u.loadScoreForTune('A Felicidade')"
   ]
  },
  {
   "cell_type": "code",
   "execution_count": 40,
   "metadata": {
    "collapsed": false
   },
   "outputs": [
    {
     "name": "stdout",
     "output_type": "stream",
     "text": [
      "{0.0} <music21.metadata.Metadata object at 0x10a32a9d0>\n",
      "{0.0} <music21.stream.Part Lead sheet>\n",
      "    {0.0} <music21.instrument.Instrument P1: Lead sheet: >\n",
      "    {0.0} <music21.stream.Measure 1 offset=0.0>\n",
      "        {0.0} <music21.layout.SystemLayout>\n",
      "        {0.0} <music21.bar.Repeat direction=start>\n",
      "        {0.0} <music21.clef.TrebleClef>\n",
      "        {0.0} <music21.key.Key of a minor>\n",
      "        {0.0} <music21.meter.TimeSignature 4/4>\n",
      "        {0.0} <music21.harmony.ChordSymbol Am7>\n",
      "        {0.0} <music21.note.Note B>\n",
      "    {4.0} <music21.stream.Measure 2 offset=4.0>\n",
      "        {0.0} <music21.layout.SystemLayout>\n",
      "        {0.0} <music21.harmony.ChordSymbol Am7>\n",
      "        {0.0} <music21.note.Note B>\n",
      "    {8.0} <music21.stream.Measure 3 offset=8.0>\n",
      "        {0.0} <music21.layout.SystemLayout>\n",
      "        {0.0} <music21.harmony.ChordSymbol Cmaj7>\n",
      "        {0.0} <music21.note.Note B>\n",
      "    {12.0} <music21.stream.Measure 4 offset=12.0>\n",
      "        {0.0} <music21.layout.SystemLayout>\n",
      "        {0.0} <music21.harmony.ChordSymbol Cmaj7>\n",
      "        {0.0} <music21.note.Note B>\n",
      "    {16.0} <music21.stream.Measure 5 offset=16.0>\n",
      "        {0.0} <music21.layout.SystemLayout>\n",
      "        {0.0} <music21.harmony.ChordSymbol Em7>\n",
      "        {0.0} <music21.note.Note B>\n",
      "    {20.0} <music21.stream.Measure 6 offset=20.0>\n",
      "        {0.0} <music21.layout.SystemLayout>\n",
      "        {0.0} <music21.harmony.ChordSymbol B7 add b9>\n",
      "        {0.0} <music21.note.Note B>\n",
      "    {24.0} <music21.stream.Measure 7 offset=24.0>\n",
      "        {0.0} <music21.expressions.TextExpression \"(repeat op...\">\n",
      "        {0.0} <music21.layout.SystemLayout>\n",
      "        {0.0} <music21.harmony.ChordSymbol Em7>\n",
      "        {0.0} <music21.note.Note B>\n",
      "        {2.0} <music21.harmony.ChordSymbol A7>\n",
      "        {2.0} <music21.note.Note B>\n",
      "    {28.0} <music21.stream.Measure 8 offset=28.0>\n",
      "        {0.0} <music21.layout.SystemLayout>\n",
      "        {0.0} <music21.harmony.ChordSymbol Dm7>\n",
      "        {0.0} <music21.note.Note B>\n",
      "        {2.0} <music21.harmony.ChordSymbol G7>\n",
      "        {2.0} <music21.note.Note B>\n",
      "        {4.0} <music21.bar.Repeat direction=end>\n",
      "    {32.0} <music21.stream.Measure 9 offset=32.0>\n",
      "        {0.0} <music21.layout.SystemLayout>\n",
      "        {0.0} <music21.harmony.ChordSymbol Cmaj7>\n",
      "        {0.0} <music21.note.Note B>\n",
      "    {36.0} <music21.stream.Measure 10 offset=36.0>\n",
      "        {0.0} <music21.layout.SystemLayout>\n",
      "        {0.0} <music21.harmony.ChordSymbol Cmaj7>\n",
      "        {0.0} <music21.note.Note B>\n",
      "    {40.0} <music21.stream.Measure 11 offset=40.0>\n",
      "        {0.0} <music21.layout.SystemLayout>\n",
      "        {0.0} <music21.harmony.ChordSymbol Bm7 alter b5>\n",
      "        {0.0} <music21.note.Note B>\n",
      "    {44.0} <music21.stream.Measure 12 offset=44.0>\n",
      "        {0.0} <music21.layout.SystemLayout>\n",
      "        {0.0} <music21.harmony.ChordSymbol E7 add b9>\n",
      "        {0.0} <music21.note.Note B>\n",
      "    {48.0} <music21.stream.Measure 13 offset=48.0>\n",
      "        {0.0} <music21.layout.SystemLayout>\n",
      "        {0.0} <music21.harmony.ChordSymbol Am7>\n",
      "        {0.0} <music21.note.Note B>\n",
      "    {52.0} <music21.stream.Measure 14 offset=52.0>\n",
      "        {0.0} <music21.layout.SystemLayout>\n",
      "        {0.0} <music21.harmony.ChordSymbol Am7>\n",
      "        {0.0} <music21.note.Note B>\n",
      "    {56.0} <music21.stream.Measure 15 offset=56.0>\n",
      "        {0.0} <music21.layout.SystemLayout>\n",
      "        {0.0} <music21.harmony.ChordSymbol Gm7>\n",
      "        {0.0} <music21.note.Note B>\n",
      "    {60.0} <music21.stream.Measure 16 offset=60.0>\n",
      "        {0.0} <music21.layout.SystemLayout>\n",
      "        {0.0} <music21.harmony.ChordSymbol C7>\n",
      "        {0.0} <music21.note.Note B>\n",
      "    {64.0} <music21.stream.Measure 17 offset=64.0>\n",
      "        {0.0} <music21.layout.SystemLayout>\n",
      "        {0.0} <music21.harmony.ChordSymbol Fmaj7>\n",
      "        {0.0} <music21.note.Note B>\n",
      "    {68.0} <music21.stream.Measure 18 offset=68.0>\n",
      "        {0.0} <music21.layout.SystemLayout>\n",
      "        {0.0} <music21.harmony.ChordSymbol Dm7>\n",
      "        {0.0} <music21.note.Note B>\n",
      "    {72.0} <music21.stream.Measure 19 offset=72.0>\n",
      "        {0.0} <music21.layout.SystemLayout>\n",
      "        {0.0} <music21.harmony.ChordSymbol Am7>\n",
      "        {0.0} <music21.note.Note B>\n",
      "    {76.0} <music21.stream.Measure 20 offset=76.0>\n",
      "        {0.0} <music21.layout.SystemLayout>\n",
      "        {0.0} <music21.harmony.ChordSymbol D7>\n",
      "        {0.0} <music21.note.Note B>\n",
      "    {80.0} <music21.stream.Measure 21 offset=80.0>\n",
      "        {0.0} <music21.layout.SystemLayout>\n",
      "        {0.0} <music21.harmony.ChordSymbol Am7>\n",
      "        {0.0} <music21.note.Note B>\n",
      "    {84.0} <music21.stream.Measure 22 offset=84.0>\n",
      "        {0.0} <music21.layout.SystemLayout>\n",
      "        {0.0} <music21.harmony.ChordSymbol Bm7 alter b5>\n",
      "        {0.0} <music21.note.Note B>\n",
      "        {2.0} <music21.harmony.ChordSymbol E7 add b9>\n",
      "        {2.0} <music21.note.Note B>\n",
      "    {88.0} <music21.stream.Measure 23 offset=88.0>\n",
      "        {0.0} <music21.layout.SystemLayout>\n",
      "        {0.0} <music21.harmony.ChordSymbol Am7>\n",
      "        {0.0} <music21.note.Note B>\n",
      "    {92.0} <music21.stream.Measure 24 offset=92.0>\n",
      "        {0.0} <music21.layout.SystemLayout>\n",
      "        {0.0} <music21.harmony.ChordSymbol G7>\n",
      "        {0.0} <music21.note.Note B>\n",
      "        {4.0} <music21.bar.Barline style=double>\n",
      "    {96.0} <music21.stream.Measure 25 offset=96.0>\n",
      "        {0.0} <music21.layout.SystemLayout>\n",
      "        {0.0} <music21.bar.Barline style=double>\n",
      "        {0.0} <music21.harmony.ChordSymbol Cmaj7>\n",
      "        {0.0} <music21.note.Note B>\n",
      "    {100.0} <music21.stream.Measure 26 offset=100.0>\n",
      "        {0.0} <music21.layout.SystemLayout>\n",
      "        {0.0} <music21.harmony.ChordSymbol F7>\n",
      "        {0.0} <music21.note.Note B>\n",
      "    {104.0} <music21.stream.Measure 27 offset=104.0>\n",
      "        {0.0} <music21.layout.SystemLayout>\n",
      "        {0.0} <music21.harmony.ChordSymbol Cmaj7>\n",
      "        {0.0} <music21.note.Note B>\n",
      "    {108.0} <music21.stream.Measure 28 offset=108.0>\n",
      "        {0.0} <music21.layout.SystemLayout>\n",
      "        {0.0} <music21.harmony.ChordSymbol Cmaj7>\n",
      "        {0.0} <music21.note.Note B>\n",
      "    {112.0} <music21.stream.Measure 29 offset=112.0>\n",
      "        {0.0} <music21.layout.SystemLayout>\n",
      "        {0.0} <music21.harmony.ChordSymbol Gm7>\n",
      "        {0.0} <music21.note.Note B>\n",
      "    {116.0} <music21.stream.Measure 30 offset=116.0>\n",
      "        {0.0} <music21.layout.SystemLayout>\n",
      "        {0.0} <music21.harmony.ChordSymbol C7>\n",
      "        {0.0} <music21.note.Note B>\n",
      "    {120.0} <music21.stream.Measure 31 offset=120.0>\n",
      "        {0.0} <music21.layout.SystemLayout>\n",
      "        {0.0} <music21.harmony.ChordSymbol Fmaj7>\n",
      "        {0.0} <music21.note.Note B>\n",
      "    {124.0} <music21.stream.Measure 32 offset=124.0>\n",
      "        {0.0} <music21.layout.SystemLayout>\n",
      "        {0.0} <music21.harmony.ChordSymbol Fmaj7>\n",
      "        {0.0} <music21.note.Note B>\n",
      "    {128.0} <music21.stream.Measure 33 offset=128.0>\n",
      "        {0.0} <music21.layout.SystemLayout>\n",
      "        {0.0} <music21.harmony.ChordSymbol Dm7>\n",
      "        {0.0} <music21.note.Note B>\n",
      "    {132.0} <music21.stream.Measure 34 offset=132.0>\n",
      "        {0.0} <music21.layout.SystemLayout>\n",
      "        {0.0} <music21.harmony.ChordSymbol G7>\n",
      "        {0.0} <music21.note.Note B>\n",
      "    {136.0} <music21.stream.Measure 35 offset=136.0>\n",
      "        {0.0} <music21.layout.SystemLayout>\n",
      "        {0.0} <music21.harmony.ChordSymbol Cmaj7>\n",
      "        {0.0} <music21.note.Note B>\n",
      "    {140.0} <music21.stream.Measure 36 offset=140.0>\n",
      "        {0.0} <music21.layout.SystemLayout>\n",
      "        {0.0} <music21.harmony.ChordSymbol Cmaj7>\n",
      "        {0.0} <music21.note.Note B>\n",
      "    {144.0} <music21.stream.Measure 37 offset=144.0>\n",
      "        {0.0} <music21.layout.SystemLayout>\n",
      "        {0.0} <music21.harmony.ChordSymbol F#m7 alter b5>\n",
      "        {0.0} <music21.note.Note B>\n",
      "    {148.0} <music21.stream.Measure 38 offset=148.0>\n",
      "        {0.0} <music21.layout.SystemLayout>\n",
      "        {0.0} <music21.harmony.ChordSymbol B7 add b9>\n",
      "        {0.0} <music21.note.Note B>\n",
      "    {152.0} <music21.stream.Measure 39 offset=152.0>\n",
      "        {0.0} <music21.layout.SystemLayout>\n",
      "        {0.0} <music21.harmony.ChordSymbol Em7>\n",
      "        {0.0} <music21.note.Note B>\n",
      "        {2.0} <music21.harmony.ChordSymbol A7>\n",
      "        {2.0} <music21.note.Note B>\n",
      "    {156.0} <music21.stream.Measure 40 offset=156.0>\n",
      "        {0.0} <music21.layout.SystemLayout>\n",
      "        {0.0} <music21.harmony.ChordSymbol Dm7>\n",
      "        {0.0} <music21.note.Note B>\n",
      "        {2.0} <music21.harmony.ChordSymbol G7>\n",
      "        {2.0} <music21.note.Note B>\n",
      "        {4.0} <music21.bar.Barline style=double>\n",
      "    {160.0} <music21.stream.Measure 41 offset=160.0>\n",
      "        {0.0} <music21.layout.SystemLayout>\n",
      "        {0.0} <music21.bar.Barline style=double>\n",
      "        {0.0} <music21.harmony.ChordSymbol Am7>\n",
      "        {0.0} <music21.note.Note B>\n",
      "    {164.0} <music21.stream.Measure 42 offset=164.0>\n",
      "        {0.0} <music21.layout.SystemLayout>\n",
      "        {0.0} <music21.harmony.ChordSymbol Am7/G>\n",
      "        {0.0} <music21.note.Note B>\n",
      "    {168.0} <music21.stream.Measure 43 offset=168.0>\n",
      "        {0.0} <music21.layout.SystemLayout>\n",
      "        {0.0} <music21.harmony.ChordSymbol D7/F#>\n",
      "        {0.0} <music21.note.Note B>\n",
      "    {172.0} <music21.stream.Measure 44 offset=172.0>\n",
      "        {0.0} <music21.layout.SystemLayout>\n",
      "        {0.0} <music21.harmony.ChordSymbol Dm7/F>\n",
      "        {0.0} <music21.note.Note B>\n",
      "    {176.0} <music21.stream.Measure 45 offset=176.0>\n",
      "        {0.0} <music21.layout.SystemLayout>\n",
      "        {0.0} <music21.harmony.ChordSymbol Am7>\n",
      "        {0.0} <music21.note.Note B>\n",
      "    {180.0} <music21.stream.Measure 46 offset=180.0>\n",
      "        {0.0} <music21.layout.SystemLayout>\n",
      "        {0.0} <music21.harmony.ChordSymbol Bm7 alter b5>\n",
      "        {0.0} <music21.note.Note B>\n",
      "        {2.0} <music21.harmony.ChordSymbol E7 add b9>\n",
      "        {2.0} <music21.note.Note B>\n",
      "    {184.0} <music21.stream.Measure 47 offset=184.0>\n",
      "        {0.0} <music21.layout.SystemLayout>\n",
      "        {0.0} <music21.harmony.ChordSymbol Am7>\n",
      "        {0.0} <music21.note.Note B>\n",
      "    {188.0} <music21.stream.Measure 48 offset=188.0>\n",
      "        {0.0} <music21.layout.SystemLayout>\n",
      "        {0.0} <music21.harmony.ChordSymbol Am7>\n",
      "        {0.0} <music21.note.Note B>\n",
      "        {4.0} <music21.bar.Barline style=final>\n",
      "{0.0} <music21.layout.ScoreLayout>\n"
     ]
    }
   ],
   "source": [
    "music21.harmony.realizeChordSymbolDurations(score) ## Argh!!!\n",
    "score.show('text')"
   ]
  },
  {
   "cell_type": "code",
   "execution_count": 47,
   "metadata": {
    "collapsed": false
   },
   "outputs": [
    {
     "data": {
      "text/plain": [
       "[]"
      ]
     },
     "execution_count": 47,
     "metadata": {},
     "output_type": "execute_result"
    }
   ],
   "source": [
    "els = score.parts[0].getElementsByClass('Instrument')\n",
    "els.matchingElements()"
   ]
  },
  {
   "cell_type": "code",
   "execution_count": 46,
   "metadata": {
    "collapsed": false
   },
   "outputs": [],
   "source": [
    "score.parts[0].removeByClass('Instrument')"
   ]
  },
  {
   "cell_type": "code",
   "execution_count": 33,
   "metadata": {
    "collapsed": false
   },
   "outputs": [],
   "source": [
    "el = score.getElementsByClass('Part').matchingElements()\n"
   ]
  },
  {
   "cell_type": "code",
   "execution_count": 35,
   "metadata": {
    "collapsed": false
   },
   "outputs": [],
   "source": [
    "el[0].partName = ''\n",
    "el[0].partAbbreviation"
   ]
  },
  {
   "cell_type": "code",
   "execution_count": 37,
   "metadata": {
    "collapsed": false
   },
   "outputs": [
    {
     "data": {
      "text/plain": [
       "''"
      ]
     },
     "execution_count": 37,
     "metadata": {},
     "output_type": "execute_result"
    }
   ],
   "source": [
    "el[0].partName"
   ]
  }
 ],
 "metadata": {
  "kernelspec": {
   "display_name": "Python 2",
   "language": "python",
   "name": "python2"
  },
  "language_info": {
   "codemirror_mode": {
    "name": "ipython",
    "version": 2
   },
   "file_extension": ".py",
   "mimetype": "text/x-python",
   "name": "python",
   "nbconvert_exporter": "python",
   "pygments_lexer": "ipython2",
   "version": "2.7.11"
  }
 },
 "nbformat": 4,
 "nbformat_minor": 0
}
